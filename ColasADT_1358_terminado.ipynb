{
  "nbformat": 4,
  "nbformat_minor": 0,
  "metadata": {
    "colab": {
      "name": "ColasADT_1358",
      "provenance": []
    },
    "kernelspec": {
      "name": "python3",
      "display_name": "Python 3"
    },
    "language_info": {
      "name": "python"
    }
  },
  "cells": [
    {
      "cell_type": "code",
      "metadata": {
        "id": "5plBZtTIsteU"
      },
      "source": [
        "class QueueADT:\n",
        "    def __init__( self ):\n",
        "        self.__data = []\n",
        "\n",
        "    def is_empty( self ):\n",
        "        return len( self.__data ) == 0\n",
        "\n",
        "    def length( self ):\n",
        "        return len( self.__data )\n",
        "\n",
        "    def enqueue( self , elem ):\n",
        "        self.__data.append( elem )\n",
        "\n",
        "    def dequeue ( self ):\n",
        "        if not self.is_empty():\n",
        "            return self.__data.pop(0)\n",
        "\n",
        "    def to_string( self ):\n",
        "        for elem in self.__data:\n",
        "            print(f\"| {elem} | <--\", end=\" \") \n",
        "        print(\" \")"
      ],
      "execution_count": null,
      "outputs": []
    },
    {
      "cell_type": "code",
      "metadata": {
        "colab": {
          "base_uri": "https://localhost:8080/"
        },
        "id": "Us7abkg2vrMo",
        "outputId": "9f1b0513-12cc-4113-db44-030ce1a0a03c"
      },
      "source": [
        "cola = QueueADT()\n",
        "print(\"Esta vacío?\" , cola.is_empty() )\n",
        "print(\"# de elementos\" , cola.length())\n",
        "cola.enqueue(10)\n",
        "cola.to_string()\n",
        "print(\"-.-.-.-.-.-.-.\")\n",
        "cola.enqueue(20)\n",
        "cola.enqueue(30)\n",
        "cola.enqueue(40)\n",
        "cola.to_string()\n",
        "siguiente = cola.dequeue()\n",
        "print(\"\\n Atendiendo a:\" , siguiente)\n",
        "cola.to_string()"
      ],
      "execution_count": null,
      "outputs": [
        {
          "output_type": "stream",
          "name": "stdout",
          "text": [
            "Esta vacío? True\n",
            "# de elementos 0\n",
            "| 10 | <--  \n",
            "-.-.-.-.-.-.-.\n",
            "| 10 | <-- | 20 | <-- | 30 | <-- | 40 | <--  \n",
            "\n",
            " Atendiendo a: 10\n",
            "| 20 | <-- | 30 | <-- | 40 | <--  \n"
          ]
        }
      ]
    },
    {
      "cell_type": "code",
      "metadata": {
        "id": "19UzEFXD-cIw"
      },
      "source": [
        "class ColaPrioridadAcotada:\n",
        "    def __init__( self , niveles ):\n",
        "        self.__data = [ QueueADT() for x in range(niveles)]\n",
        "        self.length = 0 # el numero de elementos encolados \n",
        "\n",
        "    def is_empty( self ):\n",
        "        return self.length == 0\n",
        "\n",
        "    def length( self ):\n",
        "        return self.length\n",
        "\n",
        "    def enqueue( self , prioridad , elem ):\n",
        "        if prioridad >= 0 and prioridad < len( self.__data ):\n",
        "            self.__data[prioridad].enqueue( elem )  \n",
        "            self.length += 1\n",
        "\n",
        "    def to_string( self ):\n",
        "        for p in range( len(self.__data) ):\n",
        "            print(f\"Prioridad { p } = \" , end=\"\")\n",
        "            self.__data[p].to_string()\n",
        "\n",
        "    def dequeue( self ):\n",
        "        for nivel in self.__data:\n",
        "            if not nivel.is_empty():\n",
        "                self.length -= 1\n",
        "                return nivel.dequeue()"
      ],
      "execution_count": null,
      "outputs": []
    },
    {
      "cell_type": "code",
      "metadata": {
        "colab": {
          "base_uri": "https://localhost:8080/"
        },
        "id": "pC14jAIdCvhE",
        "outputId": "c5d8c66e-7ea3-4e60-c577-5a854b507c4e"
      },
      "source": [
        "cpa = ColaPrioridadAcotada( 7 )\n",
        "cpa.enqueue(4,\"A\")\n",
        "cpa.enqueue(2,\"Z\")\n",
        "cpa.enqueue(4,\"N\")\n",
        "cpa.enqueue(1,\"P\")\n",
        "cpa.to_string()\n",
        "print(\"-.-.-.-.-.-.-.-.-\")\n",
        "sig = cpa.dequeue()\n",
        "cpa.to_string()"
      ],
      "execution_count": null,
      "outputs": [
        {
          "output_type": "stream",
          "name": "stdout",
          "text": [
            "Prioridad 0 =  \n",
            "Prioridad 1 = | P | <--  \n",
            "Prioridad 2 = | Z | <--  \n",
            "Prioridad 3 =  \n",
            "Prioridad 4 = | A | <-- | N | <--  \n",
            "Prioridad 5 =  \n",
            "Prioridad 6 =  \n",
            "-.-.-.-.-.-.-.-.-\n",
            "Prioridad 0 =  \n",
            "Prioridad 1 =  \n",
            "Prioridad 2 = | Z | <--  \n",
            "Prioridad 3 =  \n",
            "Prioridad 4 = | A | <-- | N | <--  \n",
            "Prioridad 5 =  \n",
            "Prioridad 6 =  \n"
          ]
        }
      ]
    },
    {
      "cell_type": "code",
      "metadata": {
        "id": "WuaKqWCyFIpQ"
      },
      "source": [
        "class ColaDePrioridad:\n",
        "    def __init__( self ):\n",
        "        self.__data = []\n",
        "        self.__length = 0\n",
        "\n",
        "    def is_empty( self ):\n",
        "        return self.length == 0\n",
        "\n",
        "    def length( self ):\n",
        "        return self.length\n",
        "\n",
        "    # utilizar la función insert del tipo de dato list de python.\n",
        "    # para mantener ordenado los niveles de prioridad.   \n",
        "    def enqueue( self , prioridad , elem ):\n",
        "        existe = False\n",
        "        indice = 0\n",
        "        for index in range( len(self.__data) ):\n",
        "            if self.__data[index][\"p\"] == prioridad:\n",
        "                    existe = True\n",
        "                    indice = index \n",
        "                    break\n",
        "        if existe:\n",
        "            self.__data[indice][\"cola\"].enqueue(elem)\n",
        "        else:\n",
        "            self.__data.append( { \"p\":prioridad , \"cola\": QueueADT() } )\n",
        "            self.__data[-1][\"cola\"].enqueue(elem)\n",
        "    def to_string( self ):\n",
        "        for level in self.__data:\n",
        "            print(level[\"p\"] , end=\" = \" )\n",
        "            level[\"cola\"].to_string()"
      ],
      "execution_count": null,
      "outputs": []
    },
    {
      "cell_type": "code",
      "metadata": {
        "colab": {
          "base_uri": "https://localhost:8080/"
        },
        "id": "kXTxplVDJz-L",
        "outputId": "3d81f6d3-7c1e-4d74-fcf9-0691f1577fc4"
      },
      "source": [
        "cp = ColaDePrioridad()\n",
        "cp.enqueue( 2 , \"A\" )\n",
        "cp.enqueue( 4 , \"Z\" )\n",
        "cp.enqueue( 1 , \"R\" )\n",
        "cp.enqueue( 2 , \"B\" )\n",
        "cp.enqueue( 4 , \"Y\" )\n",
        "cp.to_string()"
      ],
      "execution_count": null,
      "outputs": [
        {
          "output_type": "stream",
          "name": "stdout",
          "text": [
            "2 = | A | <-- | B | <--  \n",
            "4 = | Z | <-- | Y | <--  \n",
            "1 = | R | <--  \n"
          ]
        }
      ]
    }
  ]
}